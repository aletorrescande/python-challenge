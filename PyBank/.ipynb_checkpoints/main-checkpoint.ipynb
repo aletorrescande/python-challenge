{
 "cells": [
  {
   "cell_type": "markdown",
   "id": "8e1e8929-14a4-45e3-a6de-35bb1438a450",
   "metadata": {},
   "source": [
    "## Financial Analysis"
   ]
  },
  {
   "cell_type": "code",
   "execution_count": 153,
   "id": "10b6dddf-c941-4e2f-a8d8-5fe460b65d07",
   "metadata": {},
   "outputs": [
    {
     "data": {
      "text/plain": [
       "'\\nThis Python script analyzes the financial records of the company from the file budget.csv.\\nIt calculates:\\n1) Total number of months in dataset\\n2) Net Total of Profit/Losses\\n3) Greatest increase in profits \\n4) Greatest decrease in losses \\n'"
      ]
     },
     "execution_count": 153,
     "metadata": {},
     "output_type": "execute_result"
    }
   ],
   "source": [
    "\"\"\"\n",
    "This Python script analyzes the financial records of the company from the file budget.csv.\n",
    "It calculates:\n",
    "1) Total number of months in dataset.\n",
    "2) Net Total of Profit/Losses\n",
    "3) Greatest increase in profits \n",
    "4) Greatest decrease in losses \n",
    "\"\"\""
   ]
  },
  {
   "cell_type": "code",
   "execution_count": 3,
   "id": "a68388a1-d7da-4030-bab8-841cf20eb456",
   "metadata": {},
   "outputs": [],
   "source": [
    "# Import pathlib to set the file path and csv library to read in the file:\n",
    "from pathlib import Path\n",
    "import csv"
   ]
  },
  {
   "cell_type": "code",
   "execution_count": 4,
   "id": "050e899c-c04c-4b02-85d1-b24b5db218da",
   "metadata": {},
   "outputs": [
    {
     "data": {
      "text/plain": [
       "PosixPath('Resources/budget_data.csv')"
      ]
     },
     "execution_count": 4,
     "metadata": {},
     "output_type": "execute_result"
    }
   ],
   "source": [
    "# Set the file Path:\n",
    "csvpath = Path('./Resources/budget_data.csv')\n",
    "csvpath\n",
    "\n",
    "# Tutor Orlando, Fuller recommended having the resource file in PyBank directory to have al resources in main directory (python-challenge) (June, 21 2023)."
   ]
  },
  {
   "cell_type": "code",
   "execution_count": 5,
   "id": "a2abdafb-aeb2-458e-a4cb-3954a07e0d1c",
   "metadata": {},
   "outputs": [],
   "source": [
    "# Initialize dictionary to hold dataset (month and profit/Loss)\n",
    "dataset ={}"
   ]
  },
  {
   "cell_type": "code",
   "execution_count": 6,
   "id": "a51e9146-eb46-436d-85ae-ed410423784a",
   "metadata": {},
   "outputs": [],
   "source": [
    "# Open the input path (csvpath) as a file object \n",
    "with open(csvpath, 'r') as csvfile:\n",
    "    # Pass csv file to the csv.reader() function and use \",\" as a separator\n",
    "    # Return the csvreader object\n",
    "    csvreader = csv.reader(csvfile, delimiter=\",\")\n",
    "    # Read the header row first \n",
    "    csv_header = next(csvreader)\n",
    "    # Initiate Variables to hold total number of months and total amount of Loss/Profit \n",
    "    count_months = 0\n",
    "    total_amount = 0\n",
    "    # Read each row after header\n",
    "    for row in csvreader:\n",
    "        # print(row): you can print to verify data\n",
    "        # Set variables months and profit_loss and convert strings to ints for numerical calculations\n",
    "        months = row[0]\n",
    "        profit_loss= int(row[1])\n",
    "        # Calculate total number of months and total amount of Loss/Profit \n",
    "        total_amount += profit_loss\n",
    "        count_months += 1\n",
    "        # Initialize the dictionary\n",
    "        if months not in dataset.keys():\n",
    "            dataset[months] = profit_loss\n",
    "# to verify use:\n",
    "# print(total_amount)\n",
    "# print(count_months)\n",
    "# print(dataset)"
   ]
  },
  {
   "cell_type": "code",
   "execution_count": 7,
   "id": "bc28663f-bfab-4e3a-9f42-e800d850f6be",
   "metadata": {},
   "outputs": [],
   "source": [
    "# Next is calculating the average of the changes in Profit/Losses, maximum increase in profits and greatest decrease in losses.\n",
    "# Initiate Variables for calculating changes in value and list to hold [month, change]\n",
    "change = 0\n",
    "previous_value = 0\n",
    "data =[]\n",
    "# Create a loop to calculate the average of the changes in Profit/Losses\n",
    "for each_value in dataset.items():\n",
    "    # change = each_value - previous_value\n",
    "    # Set value to previous_value\n",
    "    if previous_value == 0:\n",
    "        previous_value = each_value[1]\n",
    "    else:\n",
    "        change = each_value[1] - previous_value\n",
    "        previous_value = each_value[1]\n",
    "        # add months and change to list\n",
    "        data.append([each_value[0], change])\n",
    "# print(data) to verify data list\n",
    "\n",
    "# Initiate Variables needed for calculations:\n",
    "count = 0\n",
    "total_change = 0       \n",
    "max_increase = -99999\n",
    "min_decrease = 99999999\n",
    "max_key = \"\"\n",
    "min_key = \"\"\n",
    "\n",
    "# Create a loop to calculate average of changes, maximum increase and minimum value (and the months)\n",
    "for month, value in data:\n",
    "    # calculate total change and total number of months\n",
    "    total_change += value\n",
    "    count +=1\n",
    "    # calculate total maximum increase in profits and greatest decrease in losses (month and value)\n",
    "    if value > max_increase:\n",
    "        max_increase = value\n",
    "        max_key = month\n",
    "    if value < min_decrease:\n",
    "        min_decrease = value\n",
    "        min_key = month\n",
    "# create variable to hold the average change (total change/total months)       \n",
    "average_change = round(total_change/count,2)\n",
    "# to verify use:\n",
    "# print(average_change)\n",
    "# print(max_increase)\n",
    "# print(max_key)\n",
    "# print(min_decrease)\n",
    "# print(min_key)\n",
    "\n",
    "# Tutor Orlando, Fuller helped me determine the previous value, change and create data list (June, 21 2023)."
   ]
  },
  {
   "cell_type": "code",
   "execution_count": 8,
   "id": "84039f20-c6b5-4e23-95de-2e8b0b37bd69",
   "metadata": {},
   "outputs": [
    {
     "name": "stdout",
     "output_type": "stream",
     "text": [
      "Financial Analysis\n",
      "---------------------------------------------------------\n",
      "Total Months: 86\n",
      "Total: $38382578\n",
      "Average Change: $-2315.12\n",
      "Greatest Increase in Profits: $1926159 in Feb-2012\n",
      "Greatest Decrease in Profits: $-2196167 in Sep-2013\n"
     ]
    }
   ],
   "source": [
    "# Print Results\n",
    "print(\"Financial Analysis\")\n",
    "print(\"---------------------------------------------------------\")\n",
    "print(f\"Total Months: {count_months}\")\n",
    "print(f\"Total: ${total_amount}\")\n",
    "print(f\"Average Change: ${average_change}\")\n",
    "print(f\"Greatest Increase in Profits: ${max_increase} in {max_key}\")\n",
    "print(f\"Greatest Decrease in Profits: ${min_decrease} in {min_key}\")"
   ]
  },
  {
   "cell_type": "code",
   "execution_count": 10,
   "id": "4362e27f-3c6a-4796-91db-a3e1a209f325",
   "metadata": {},
   "outputs": [],
   "source": [
    "# Create a text file to hold Financial Analysis results\n",
    "# Set the output file path\n",
    "results_path = 'results.txt'"
   ]
  },
  {
   "cell_type": "code",
   "execution_count": 11,
   "id": "b2c9338d-04bc-435a-9a95-365d1657258e",
   "metadata": {},
   "outputs": [],
   "source": [
    "# Open the output path as a file object to write:\n",
    "with open(results_path, 'w') as file:\n",
    "    # Write results to the output file, convert to string\n",
    "    file.write(\"Financial Analysis\\n\")\n",
    "    file.write(\"---------------------------------------------------------\\n\")\n",
    "    file.write(f\"Total Months: {count_months}\\n\")\n",
    "    file.write(f\"Total: ${total_amount}\\n\")\n",
    "    file.write(f\"Average Change: ${average_change}\\n\")\n",
    "    file.write(f\"Greatest Increase in Profits: ${max_increase} in {max_key}\\n\")\n",
    "    file.write(f\"Greatest Decrease in Profits: ${min_decrease} in {min_key}\\n\")"
   ]
  },
  {
   "cell_type": "code",
   "execution_count": null,
   "id": "a3bcfba9-34af-4ad8-813f-648a1f801fd7",
   "metadata": {},
   "outputs": [],
   "source": []
  }
 ],
 "metadata": {
  "kernelspec": {
   "display_name": "Python 3 (ipykernel)",
   "language": "python",
   "name": "python3"
  },
  "language_info": {
   "codemirror_mode": {
    "name": "ipython",
    "version": 3
   },
   "file_extension": ".py",
   "mimetype": "text/x-python",
   "name": "python",
   "nbconvert_exporter": "python",
   "pygments_lexer": "ipython3",
   "version": "3.10.11"
  }
 },
 "nbformat": 4,
 "nbformat_minor": 5
}
